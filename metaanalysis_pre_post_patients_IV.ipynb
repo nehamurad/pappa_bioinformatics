{
 "cells": [
  {
   "cell_type": "markdown",
   "id": "466df1c3",
   "metadata": {
    "toc": true
   },
   "source": [
    "<h1>Table of Contents<span class=\"tocSkip\"></span></h1>\n",
    "<div class=\"toc\"><ul class=\"toc-item\"><li><span><a href=\"#IV-day-3\" data-toc-modified-id=\"IV-day-3-1\"><span class=\"toc-item-num\">1&nbsp;&nbsp;</span>IV day 3</a></span></li><li><span><a href=\"#IV-day-8\" data-toc-modified-id=\"IV-day-8-2\"><span class=\"toc-item-num\">2&nbsp;&nbsp;</span>IV day 8</a></span></li><li><span><a href=\"#IV-day-both\" data-toc-modified-id=\"IV-day-both-3\"><span class=\"toc-item-num\">3&nbsp;&nbsp;</span>IV day both</a></span></li></ul></div>"
   ]
  },
  {
   "cell_type": "code",
   "execution_count": 1,
   "id": "dd747ab6",
   "metadata": {},
   "outputs": [],
   "source": [
    "import pandas as pd\n",
    "import os\n",
    "import numpy as np\n",
    "from scipy import stats\n",
    "from scipy.stats.mstats import gmean  # For geometric mean\n",
    "from statsmodels.stats.multitest import multipletests # for fdr correction"
   ]
  },
  {
   "cell_type": "code",
   "execution_count": 2,
   "id": "063f7b32",
   "metadata": {},
   "outputs": [],
   "source": [
    "# File path\n",
    "filepath = \"/Users/nehamurad/Desktop/Ph1/Ph1_Epistem/counts/postvspre/patient_specific/\""
   ]
  },
  {
   "cell_type": "markdown",
   "id": "f8450c60",
   "metadata": {},
   "source": [
    "# IV day 3"
   ]
  },
  {
   "cell_type": "code",
   "execution_count": 3,
   "id": "8f6f3fc1",
   "metadata": {
    "scrolled": true
   },
   "outputs": [],
   "source": [
    "# Define cohorts, contrasts, and prefixes for file names\n",
    "cohorts = [\"A\", \"B\", \"D\", \"F\"]\n",
    "\n",
    "contrasts = [\"day3_vs_predose\"]\n",
    "\n",
    "# Set significance threshold\n",
    "alpha = 0.05\n",
    "\n",
    "# Create an empty list to store all DataFrames\n",
    "all_results = []\n",
    "\n",
    "# Loop over cohorts, contrasts, and prefixes\n",
    "for cohort in cohorts:\n",
    "    for contrast in contrasts:\n",
    "            filename = f\"{filepath}cohort_{cohort}_{contrast}.csv\"\n",
    "            if os.path.exists(filename):\n",
    "                df = pd.read_csv(filename, index_col=0)\n",
    "\n",
    "                # Add cohort and contrast columns to the DataFrame\n",
    "                df[\"cohort\"] = cohort\n",
    "                df[\"contrast\"] = contrast\n",
    "                \n",
    "                df = df.dropna(subset=['pvalue'])\n",
    "\n",
    "                all_results.append(df)\n",
    "\n",
    "# Concatenate all DataFrames into one\n",
    "merged_df = pd.concat(all_results)\n",
    "\n",
    "# Group by gene name and apply the meta-analysis\n",
    "combined_results = merged_df.groupby(merged_df.index).agg({\n",
    "    \"pvalue\": lambda x: stats.combine_pvalues(x, method='fisher')[1],  # Combine padj values directly\n",
    "    \"log2FoldChange\": lambda x: np.log2(gmean(2**x))  # Calculate geometric mean on fold changes\n",
    "})\n",
    "\n",
    "# Rename columns and count significant results per gene\n",
    "combined_results = combined_results.rename(columns={\"pvalue\": \"combined_pvalue\", \"log2FoldChange\": \"combined_log2FoldChange\"})\n",
    "combined_results[\"significance_count\"] = merged_df.groupby(merged_df.index)[\"pvalue\"].apply(lambda x: (x < alpha).sum())\n",
    "combined_results[\"combined_padj\"] = multipletests(combined_results[\"combined_pvalue\"], method='fdr_bh')[1]\n",
    "combined_results[\"-log10(pvalue_adj)\"] = -np.log10(combined_results[\"combined_padj\"])\n",
    "\n",
    "# Sort the results (no need to adjust again)\n",
    "combined_results = combined_results.sort_values(\n",
    "    by=[\"significance_count\", \"combined_pvalue\"], ascending=[False, True]\n",
    ")\n",
    "\n",
    "fp = \"/Users/nehamurad/Desktop/Ph1/Ph1_Epistem/counts/metanalysis_results/\"\n",
    "\n",
    "fn = \"post_pre_IV_day_3.csv\"\n",
    "\n",
    "combined_results.to_csv(fp+fn)"
   ]
  },
  {
   "cell_type": "markdown",
   "id": "761c2351",
   "metadata": {},
   "source": [
    "# IV day 8"
   ]
  },
  {
   "cell_type": "code",
   "execution_count": 4,
   "id": "2fbf5b0a",
   "metadata": {},
   "outputs": [],
   "source": [
    "# Define cohorts, contrasts, and prefixes for file names\n",
    "cohorts = [\"A\", \"B\", \"D\", \"F\"]\n",
    "\n",
    "contrasts = [\"day8_vs_predose\"]\n",
    "\n",
    "# Set significance threshold\n",
    "alpha = 0.05\n",
    "\n",
    "# Create an empty list to store all DataFrames\n",
    "all_results = []\n",
    "\n",
    "# Loop over cohorts, contrasts, and prefixes\n",
    "for cohort in cohorts:\n",
    "    for contrast in contrasts:\n",
    "            filename = f\"{filepath}cohort_{cohort}_{contrast}.csv\"\n",
    "            if os.path.exists(filename):\n",
    "                df = pd.read_csv(filename, index_col=0)\n",
    "\n",
    "                # Add cohort and contrast columns to the DataFrame\n",
    "                df[\"cohort\"] = cohort\n",
    "                df[\"contrast\"] = contrast\n",
    "                \n",
    "                df = df.dropna(subset=['pvalue'])\n",
    "\n",
    "                all_results.append(df)\n",
    "\n",
    "# Concatenate all DataFrames into one\n",
    "merged_df = pd.concat(all_results)\n",
    "\n",
    "# Group by gene name and apply the meta-analysis\n",
    "combined_results = merged_df.groupby(merged_df.index).agg({\n",
    "    \"pvalue\": lambda x: stats.combine_pvalues(x, method='fisher')[1],  # Combine padj values directly\n",
    "    \"log2FoldChange\": lambda x: np.log2(gmean(2**x))  # Calculate geometric mean on fold changes\n",
    "})\n",
    "\n",
    "# Rename columns and count significant results per gene\n",
    "combined_results = combined_results.rename(columns={\"pvalue\": \"combined_pvalue\", \"log2FoldChange\": \"combined_log2FoldChange\"})\n",
    "combined_results[\"significance_count\"] = merged_df.groupby(merged_df.index)[\"pvalue\"].apply(lambda x: (x < alpha).sum())\n",
    "combined_results[\"combined_padj\"] = multipletests(combined_results[\"combined_pvalue\"], method='fdr_bh')[1]\n",
    "combined_results[\"-log10(pvalue_adj)\"] = -np.log10(combined_results[\"combined_padj\"])\n",
    "\n",
    "# Sort the results (no need to adjust again)\n",
    "combined_results = combined_results.sort_values(\n",
    "    by=[\"significance_count\", \"combined_pvalue\"], ascending=[False, True]\n",
    ")\n",
    "\n",
    "fp = \"/Users/nehamurad/Desktop/Ph1/Ph1_Epistem/counts/metanalysis_results/\"\n",
    "\n",
    "fn = \"post_pre_IV_day_8.csv\"\n",
    "\n",
    "combined_results.to_csv(fp+fn)"
   ]
  },
  {
   "cell_type": "markdown",
   "id": "04e8bfa6",
   "metadata": {},
   "source": [
    "# IV day both"
   ]
  },
  {
   "cell_type": "code",
   "execution_count": 5,
   "id": "75da4815",
   "metadata": {},
   "outputs": [],
   "source": [
    "# Define cohorts, contrasts, and prefixes for file names\n",
    "cohorts = [\"A\", \"B\", \"D\", \"F\"]\n",
    "\n",
    "contrasts = [\"day3_vs_predose\", \"day8_vs_predose\"]\n",
    "\n",
    "# Set significance threshold\n",
    "alpha = 0.05\n",
    "\n",
    "# Create an empty list to store all DataFrames\n",
    "all_results = []\n",
    "\n",
    "# Loop over cohorts, contrasts, and prefixes\n",
    "for cohort in cohorts:\n",
    "    for contrast in contrasts:\n",
    "            filename = f\"{filepath}cohort_{cohort}_{contrast}.csv\"\n",
    "            if os.path.exists(filename):\n",
    "                df = pd.read_csv(filename, index_col=0)\n",
    "\n",
    "                # Add cohort and contrast columns to the DataFrame\n",
    "                df[\"cohort\"] = cohort\n",
    "                df[\"contrast\"] = contrast\n",
    "                \n",
    "                df = df.dropna(subset=['pvalue'])\n",
    "\n",
    "                all_results.append(df)\n",
    "\n",
    "# Concatenate all DataFrames into one\n",
    "merged_df = pd.concat(all_results)\n",
    "\n",
    "# Group by gene name and apply the meta-analysis\n",
    "combined_results = merged_df.groupby(merged_df.index).agg({\n",
    "    \"pvalue\": lambda x: stats.combine_pvalues(x, method='fisher')[1],  # Combine padj values directly\n",
    "    \"log2FoldChange\": lambda x: np.log2(gmean(2**x))  # Calculate geometric mean on fold changes\n",
    "})\n",
    "\n",
    "# Rename columns and count significant results per gene\n",
    "combined_results = combined_results.rename(columns={\"pvalue\": \"combined_pvalue\", \"log2FoldChange\": \"combined_log2FoldChange\"})\n",
    "combined_results[\"significance_count\"] = merged_df.groupby(merged_df.index)[\"pvalue\"].apply(lambda x: (x < alpha).sum())\n",
    "combined_results[\"combined_padj\"] = multipletests(combined_results[\"combined_pvalue\"], method='fdr_bh')[1]\n",
    "combined_results[\"-log10(pvalue_adj)\"] = -np.log10(combined_results[\"combined_padj\"])\n",
    "\n",
    "# Sort the results (no need to adjust again)\n",
    "combined_results = combined_results.sort_values(\n",
    "    by=[\"significance_count\", \"combined_pvalue\"], ascending=[False, True]\n",
    ")\n",
    "\n",
    "fp = \"/Users/nehamurad/Desktop/Ph1/Ph1_Epistem/counts/metanalysis_results/\"\n",
    "\n",
    "fn = \"post_pre_IV_day_both.csv\"\n",
    "\n",
    "combined_results.to_csv(fp+fn)"
   ]
  },
  {
   "cell_type": "code",
   "execution_count": null,
   "id": "8e371730",
   "metadata": {},
   "outputs": [],
   "source": [
    "combined_results[(combined_results.significance_count>2) & (combined_results.combined_pvalue<0.05)]"
   ]
  },
  {
   "cell_type": "code",
   "execution_count": null,
   "id": "d49f1f09",
   "metadata": {},
   "outputs": [],
   "source": []
  },
  {
   "cell_type": "code",
   "execution_count": null,
   "id": "7b15b218",
   "metadata": {},
   "outputs": [],
   "source": [
    "sig_res = combined_results[(combined_results.significance_count>3) & (combined_results.combined_pvalue<0.01)]\n",
    "sig_res"
   ]
  },
  {
   "cell_type": "code",
   "execution_count": null,
   "id": "a3cdfff8",
   "metadata": {},
   "outputs": [],
   "source": [
    "sig_res.index"
   ]
  },
  {
   "cell_type": "code",
   "execution_count": null,
   "id": "75b5b0c3",
   "metadata": {},
   "outputs": [],
   "source": [
    "sig_res.loc[\"PDGFRB\"]"
   ]
  },
  {
   "cell_type": "code",
   "execution_count": null,
   "id": "1c650970",
   "metadata": {},
   "outputs": [],
   "source": [
    "merged_df.loc[\"COL3A1\"][merged_df.loc[\"COL3A1\",\"padj\"]<2]"
   ]
  },
  {
   "cell_type": "code",
   "execution_count": null,
   "id": "fb5d99d1",
   "metadata": {},
   "outputs": [],
   "source": [
    "sig_res.loc[\"PDGFRB\"]"
   ]
  },
  {
   "cell_type": "code",
   "execution_count": null,
   "id": "7ebdd6c0",
   "metadata": {},
   "outputs": [],
   "source": [
    "merged_df.loc[\"PDGFRB\"][merged_df.loc[\"PDGFRB\",\"padj\"]<2]"
   ]
  },
  {
   "cell_type": "markdown",
   "id": "bdf4c1e7",
   "metadata": {},
   "source": [
    "Inhibition of cell growth and proliferation: Since PDGFRB signaling is essential for the growth and proliferation of many cell types, its downregulation can lead to decreased cell proliferation and survival."
   ]
  },
  {
   "cell_type": "code",
   "execution_count": null,
   "id": "3876f0b2",
   "metadata": {},
   "outputs": [],
   "source": []
  }
 ],
 "metadata": {
  "kernelspec": {
   "display_name": "Python 3",
   "language": "python",
   "name": "python3"
  },
  "language_info": {
   "codemirror_mode": {
    "name": "ipython",
    "version": 3
   },
   "file_extension": ".py",
   "mimetype": "text/x-python",
   "name": "python",
   "nbconvert_exporter": "python",
   "pygments_lexer": "ipython3",
   "version": "3.8.8"
  },
  "toc": {
   "base_numbering": 1,
   "nav_menu": {},
   "number_sections": true,
   "sideBar": true,
   "skip_h1_title": false,
   "title_cell": "Table of Contents",
   "title_sidebar": "Contents",
   "toc_cell": true,
   "toc_position": {},
   "toc_section_display": true,
   "toc_window_display": true
  }
 },
 "nbformat": 4,
 "nbformat_minor": 5
}
